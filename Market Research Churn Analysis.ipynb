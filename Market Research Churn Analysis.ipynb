{
 "cells": [
  {
   "cell_type": "markdown",
   "id": "8356dd36",
   "metadata": {},
   "source": [
    "## Import Data dan Inspeksi Dataset"
   ]
  },
  {
   "cell_type": "code",
   "execution_count": 15,
   "id": "ea298521",
   "metadata": {},
   "outputs": [
    {
     "data": {
      "text/html": [
       "<div>\n",
       "<style scoped>\n",
       "    .dataframe tbody tr th:only-of-type {\n",
       "        vertical-align: middle;\n",
       "    }\n",
       "\n",
       "    .dataframe tbody tr th {\n",
       "        vertical-align: top;\n",
       "    }\n",
       "\n",
       "    .dataframe thead th {\n",
       "        text-align: right;\n",
       "    }\n",
       "</style>\n",
       "<table border=\"1\" class=\"dataframe\">\n",
       "  <thead>\n",
       "    <tr style=\"text-align: right;\">\n",
       "      <th></th>\n",
       "      <th>no</th>\n",
       "      <th>Row_Num</th>\n",
       "      <th>Customer_ID</th>\n",
       "      <th>Product</th>\n",
       "      <th>First_Transaction</th>\n",
       "      <th>Last_Transaction</th>\n",
       "      <th>Average_Transaction_Amount</th>\n",
       "      <th>Count_Transaction</th>\n",
       "    </tr>\n",
       "  </thead>\n",
       "  <tbody>\n",
       "    <tr>\n",
       "      <th>0</th>\n",
       "      <td>1</td>\n",
       "      <td>1</td>\n",
       "      <td>29531</td>\n",
       "      <td>Jaket</td>\n",
       "      <td>1466304274396</td>\n",
       "      <td>1538718482608</td>\n",
       "      <td>1467681</td>\n",
       "      <td>22</td>\n",
       "    </tr>\n",
       "    <tr>\n",
       "      <th>1</th>\n",
       "      <td>2</td>\n",
       "      <td>2</td>\n",
       "      <td>29531</td>\n",
       "      <td>Sepatu</td>\n",
       "      <td>1406077331494</td>\n",
       "      <td>1545735761270</td>\n",
       "      <td>1269337</td>\n",
       "      <td>41</td>\n",
       "    </tr>\n",
       "    <tr>\n",
       "      <th>2</th>\n",
       "      <td>3</td>\n",
       "      <td>3</td>\n",
       "      <td>141526</td>\n",
       "      <td>Tas</td>\n",
       "      <td>1493349147000</td>\n",
       "      <td>1548322802000</td>\n",
       "      <td>310915</td>\n",
       "      <td>30</td>\n",
       "    </tr>\n",
       "    <tr>\n",
       "      <th>3</th>\n",
       "      <td>4</td>\n",
       "      <td>4</td>\n",
       "      <td>141526</td>\n",
       "      <td>Jaket</td>\n",
       "      <td>1493362372547</td>\n",
       "      <td>1547643603911</td>\n",
       "      <td>722632</td>\n",
       "      <td>27</td>\n",
       "    </tr>\n",
       "    <tr>\n",
       "      <th>4</th>\n",
       "      <td>5</td>\n",
       "      <td>5</td>\n",
       "      <td>37545</td>\n",
       "      <td>Sepatu</td>\n",
       "      <td>1429178498531</td>\n",
       "      <td>1542891221530</td>\n",
       "      <td>1775036</td>\n",
       "      <td>25</td>\n",
       "    </tr>\n",
       "  </tbody>\n",
       "</table>\n",
       "</div>"
      ],
      "text/plain": [
       "   no  Row_Num  Customer_ID Product  First_Transaction  Last_Transaction  \\\n",
       "0   1        1        29531   Jaket      1466304274396     1538718482608   \n",
       "1   2        2        29531  Sepatu      1406077331494     1545735761270   \n",
       "2   3        3       141526     Tas      1493349147000     1548322802000   \n",
       "3   4        4       141526   Jaket      1493362372547     1547643603911   \n",
       "4   5        5        37545  Sepatu      1429178498531     1542891221530   \n",
       "\n",
       "   Average_Transaction_Amount  Count_Transaction  \n",
       "0                     1467681                 22  \n",
       "1                     1269337                 41  \n",
       "2                      310915                 30  \n",
       "3                      722632                 27  \n",
       "4                     1775036                 25  "
      ]
     },
     "execution_count": 15,
     "metadata": {},
     "output_type": "execute_result"
    }
   ],
   "source": [
    "# Import library dan baca dataset\n",
    "import pandas as pd\n",
    "import matplotlib.pyplot as plt\n",
    "\n",
    "df = pd.read_csv('https://storage.googleapis.com/dqlab-dataset/data_retail.csv', sep=';')\n",
    "df.head()"
   ]
  },
  {
   "cell_type": "code",
   "execution_count": 16,
   "id": "c9c0245e",
   "metadata": {},
   "outputs": [
    {
     "name": "stdout",
     "output_type": "stream",
     "text": [
      "<class 'pandas.core.frame.DataFrame'>\n",
      "RangeIndex: 100000 entries, 0 to 99999\n",
      "Data columns (total 8 columns):\n",
      " #   Column                      Non-Null Count   Dtype \n",
      "---  ------                      --------------   ----- \n",
      " 0   no                          100000 non-null  int64 \n",
      " 1   Row_Num                     100000 non-null  int64 \n",
      " 2   Customer_ID                 100000 non-null  int64 \n",
      " 3   Product                     100000 non-null  object\n",
      " 4   First_Transaction           100000 non-null  int64 \n",
      " 5   Last_Transaction            100000 non-null  int64 \n",
      " 6   Average_Transaction_Amount  100000 non-null  int64 \n",
      " 7   Count_Transaction           100000 non-null  int64 \n",
      "dtypes: int64(7), object(1)\n",
      "memory usage: 6.1+ MB\n"
     ]
    }
   ],
   "source": [
    "df.info()"
   ]
  },
  {
   "cell_type": "markdown",
   "id": "ea3f829b",
   "metadata": {},
   "source": [
    "## Cleansing Dataset"
   ]
  },
  {
   "cell_type": "code",
   "execution_count": 17,
   "id": "26edc9e3",
   "metadata": {},
   "outputs": [
    {
     "data": {
      "text/html": [
       "<div>\n",
       "<style scoped>\n",
       "    .dataframe tbody tr th:only-of-type {\n",
       "        vertical-align: middle;\n",
       "    }\n",
       "\n",
       "    .dataframe tbody tr th {\n",
       "        vertical-align: top;\n",
       "    }\n",
       "\n",
       "    .dataframe thead th {\n",
       "        text-align: right;\n",
       "    }\n",
       "</style>\n",
       "<table border=\"1\" class=\"dataframe\">\n",
       "  <thead>\n",
       "    <tr style=\"text-align: right;\">\n",
       "      <th></th>\n",
       "      <th>no</th>\n",
       "      <th>Row_Num</th>\n",
       "      <th>Customer_ID</th>\n",
       "      <th>Product</th>\n",
       "      <th>First_Transaction</th>\n",
       "      <th>Last_Transaction</th>\n",
       "      <th>Average_Transaction_Amount</th>\n",
       "      <th>Count_Transaction</th>\n",
       "    </tr>\n",
       "  </thead>\n",
       "  <tbody>\n",
       "    <tr>\n",
       "      <th>0</th>\n",
       "      <td>1</td>\n",
       "      <td>1</td>\n",
       "      <td>29531</td>\n",
       "      <td>Jaket</td>\n",
       "      <td>2016-06-19 02:44:34.396000000</td>\n",
       "      <td>2018-10-05 05:48:02.608000000</td>\n",
       "      <td>1467681</td>\n",
       "      <td>22</td>\n",
       "    </tr>\n",
       "    <tr>\n",
       "      <th>1</th>\n",
       "      <td>2</td>\n",
       "      <td>2</td>\n",
       "      <td>29531</td>\n",
       "      <td>Sepatu</td>\n",
       "      <td>2014-07-23 01:02:11.493999872</td>\n",
       "      <td>2018-12-25 11:02:41.269999872</td>\n",
       "      <td>1269337</td>\n",
       "      <td>41</td>\n",
       "    </tr>\n",
       "    <tr>\n",
       "      <th>2</th>\n",
       "      <td>3</td>\n",
       "      <td>3</td>\n",
       "      <td>141526</td>\n",
       "      <td>Tas</td>\n",
       "      <td>2017-04-28 03:12:27.000000000</td>\n",
       "      <td>2019-01-24 09:40:02.000000000</td>\n",
       "      <td>310915</td>\n",
       "      <td>30</td>\n",
       "    </tr>\n",
       "    <tr>\n",
       "      <th>3</th>\n",
       "      <td>4</td>\n",
       "      <td>4</td>\n",
       "      <td>141526</td>\n",
       "      <td>Jaket</td>\n",
       "      <td>2017-04-28 06:52:52.546999808</td>\n",
       "      <td>2019-01-16 13:00:03.911000064</td>\n",
       "      <td>722632</td>\n",
       "      <td>27</td>\n",
       "    </tr>\n",
       "    <tr>\n",
       "      <th>4</th>\n",
       "      <td>5</td>\n",
       "      <td>5</td>\n",
       "      <td>37545</td>\n",
       "      <td>Sepatu</td>\n",
       "      <td>2015-04-16 10:01:38.530999808</td>\n",
       "      <td>2018-11-22 12:53:41.529999872</td>\n",
       "      <td>1775036</td>\n",
       "      <td>25</td>\n",
       "    </tr>\n",
       "  </tbody>\n",
       "</table>\n",
       "</div>"
      ],
      "text/plain": [
       "   no  Row_Num  Customer_ID Product             First_Transaction  \\\n",
       "0   1        1        29531   Jaket 2016-06-19 02:44:34.396000000   \n",
       "1   2        2        29531  Sepatu 2014-07-23 01:02:11.493999872   \n",
       "2   3        3       141526     Tas 2017-04-28 03:12:27.000000000   \n",
       "3   4        4       141526   Jaket 2017-04-28 06:52:52.546999808   \n",
       "4   5        5        37545  Sepatu 2015-04-16 10:01:38.530999808   \n",
       "\n",
       "               Last_Transaction  Average_Transaction_Amount  Count_Transaction  \n",
       "0 2018-10-05 05:48:02.608000000                     1467681                 22  \n",
       "1 2018-12-25 11:02:41.269999872                     1269337                 41  \n",
       "2 2019-01-24 09:40:02.000000000                      310915                 30  \n",
       "3 2019-01-16 13:00:03.911000064                      722632                 27  \n",
       "4 2018-11-22 12:53:41.529999872                     1775036                 25  "
      ]
     },
     "execution_count": 17,
     "metadata": {},
     "output_type": "execute_result"
    }
   ],
   "source": [
    "# Mengubah kolom 'First_Transaction' dan 'Last_Transaction'\n",
    "\n",
    "df['First_Transaction'] = pd.to_datetime(df['First_Transaction']/1000, unit='s', origin='1970-01-01')\n",
    "df['Last_Transaction'] = pd.to_datetime(df['Last_Transaction']/1000, unit='s', origin='1970-01-01')\n",
    "df.head()"
   ]
  },
  {
   "cell_type": "code",
   "execution_count": 18,
   "id": "5124e986",
   "metadata": {},
   "outputs": [
    {
     "name": "stdout",
     "output_type": "stream",
     "text": [
      "<class 'pandas.core.frame.DataFrame'>\n",
      "RangeIndex: 100000 entries, 0 to 99999\n",
      "Data columns (total 8 columns):\n",
      " #   Column                      Non-Null Count   Dtype         \n",
      "---  ------                      --------------   -----         \n",
      " 0   no                          100000 non-null  int64         \n",
      " 1   Row_Num                     100000 non-null  int64         \n",
      " 2   Customer_ID                 100000 non-null  int64         \n",
      " 3   Product                     100000 non-null  object        \n",
      " 4   First_Transaction           100000 non-null  datetime64[ns]\n",
      " 5   Last_Transaction            100000 non-null  datetime64[ns]\n",
      " 6   Average_Transaction_Amount  100000 non-null  int64         \n",
      " 7   Count_Transaction           100000 non-null  int64         \n",
      "dtypes: datetime64[ns](2), int64(5), object(1)\n",
      "memory usage: 6.1+ MB\n"
     ]
    }
   ],
   "source": [
    "df.info()"
   ]
  },
  {
   "cell_type": "code",
   "execution_count": 19,
   "id": "de824eaf",
   "metadata": {},
   "outputs": [],
   "source": [
    "# Hapus kolom 'no' dan 'Row_num'\n",
    "del(df['no'])\n",
    "del(df['Row_Num'])"
   ]
  },
  {
   "cell_type": "markdown",
   "id": "cdf89a99",
   "metadata": {},
   "source": [
    "## Churn Customers"
   ]
  },
  {
   "cell_type": "code",
   "execution_count": 20,
   "id": "b1c5bea6",
   "metadata": {},
   "outputs": [
    {
     "data": {
      "text/plain": [
       "Timestamp('2019-02-01 23:57:57.286000128')"
      ]
     },
     "execution_count": 20,
     "metadata": {},
     "output_type": "execute_result"
    }
   ],
   "source": [
    "# Pengecekan transaksi terakhir dalam dataset\n",
    "max(df['Last_Transaction'])"
   ]
  },
  {
   "cell_type": "code",
   "execution_count": 23,
   "id": "8bfd618f",
   "metadata": {},
   "outputs": [
    {
     "name": "stdout",
     "output_type": "stream",
     "text": [
      "<class 'pandas.core.frame.DataFrame'>\n",
      "RangeIndex: 100000 entries, 0 to 99999\n",
      "Data columns (total 7 columns):\n",
      " #   Column                      Non-Null Count   Dtype         \n",
      "---  ------                      --------------   -----         \n",
      " 0   Customer_ID                 100000 non-null  int64         \n",
      " 1   Product                     100000 non-null  object        \n",
      " 2   First_Transaction           100000 non-null  datetime64[ns]\n",
      " 3   Last_Transaction            100000 non-null  datetime64[ns]\n",
      " 4   Average_Transaction_Amount  100000 non-null  int64         \n",
      " 5   Count_Transaction           100000 non-null  int64         \n",
      " 6   is_churn                    100000 non-null  object        \n",
      "dtypes: datetime64[ns](2), int64(3), object(2)\n",
      "memory usage: 5.3+ MB\n"
     ]
    }
   ],
   "source": [
    "# Pengklasifikasian customer termasuk churn atau tidak\n",
    "df.loc[df['Last_Transaction'] <= '2018-08-01', 'is_churn'] = True\n",
    "df.loc[df['Last_Transaction'] > '2018-08-01', 'is_churn'] = False\n",
    "df.info()"
   ]
  },
  {
   "cell_type": "code",
   "execution_count": 24,
   "id": "d34187ec",
   "metadata": {},
   "outputs": [
    {
     "data": {
      "text/html": [
       "<div>\n",
       "<style scoped>\n",
       "    .dataframe tbody tr th:only-of-type {\n",
       "        vertical-align: middle;\n",
       "    }\n",
       "\n",
       "    .dataframe tbody tr th {\n",
       "        vertical-align: top;\n",
       "    }\n",
       "\n",
       "    .dataframe thead th {\n",
       "        text-align: right;\n",
       "    }\n",
       "</style>\n",
       "<table border=\"1\" class=\"dataframe\">\n",
       "  <thead>\n",
       "    <tr style=\"text-align: right;\">\n",
       "      <th></th>\n",
       "      <th>Customer_ID</th>\n",
       "      <th>Product</th>\n",
       "      <th>First_Transaction</th>\n",
       "      <th>Last_Transaction</th>\n",
       "      <th>Average_Transaction_Amount</th>\n",
       "      <th>Count_Transaction</th>\n",
       "      <th>is_churn</th>\n",
       "    </tr>\n",
       "  </thead>\n",
       "  <tbody>\n",
       "    <tr>\n",
       "      <th>0</th>\n",
       "      <td>29531</td>\n",
       "      <td>Jaket</td>\n",
       "      <td>2016-06-19 02:44:34.396000000</td>\n",
       "      <td>2018-10-05 05:48:02.608000000</td>\n",
       "      <td>1467681</td>\n",
       "      <td>22</td>\n",
       "      <td>0</td>\n",
       "    </tr>\n",
       "    <tr>\n",
       "      <th>1</th>\n",
       "      <td>29531</td>\n",
       "      <td>Sepatu</td>\n",
       "      <td>2014-07-23 01:02:11.493999872</td>\n",
       "      <td>2018-12-25 11:02:41.269999872</td>\n",
       "      <td>1269337</td>\n",
       "      <td>41</td>\n",
       "      <td>0</td>\n",
       "    </tr>\n",
       "    <tr>\n",
       "      <th>2</th>\n",
       "      <td>141526</td>\n",
       "      <td>Tas</td>\n",
       "      <td>2017-04-28 03:12:27.000000000</td>\n",
       "      <td>2019-01-24 09:40:02.000000000</td>\n",
       "      <td>310915</td>\n",
       "      <td>30</td>\n",
       "      <td>0</td>\n",
       "    </tr>\n",
       "    <tr>\n",
       "      <th>3</th>\n",
       "      <td>141526</td>\n",
       "      <td>Jaket</td>\n",
       "      <td>2017-04-28 06:52:52.546999808</td>\n",
       "      <td>2019-01-16 13:00:03.911000064</td>\n",
       "      <td>722632</td>\n",
       "      <td>27</td>\n",
       "      <td>0</td>\n",
       "    </tr>\n",
       "    <tr>\n",
       "      <th>4</th>\n",
       "      <td>37545</td>\n",
       "      <td>Sepatu</td>\n",
       "      <td>2015-04-16 10:01:38.530999808</td>\n",
       "      <td>2018-11-22 12:53:41.529999872</td>\n",
       "      <td>1775036</td>\n",
       "      <td>25</td>\n",
       "      <td>0</td>\n",
       "    </tr>\n",
       "  </tbody>\n",
       "</table>\n",
       "</div>"
      ],
      "text/plain": [
       "   Customer_ID Product             First_Transaction  \\\n",
       "0        29531   Jaket 2016-06-19 02:44:34.396000000   \n",
       "1        29531  Sepatu 2014-07-23 01:02:11.493999872   \n",
       "2       141526     Tas 2017-04-28 03:12:27.000000000   \n",
       "3       141526   Jaket 2017-04-28 06:52:52.546999808   \n",
       "4        37545  Sepatu 2015-04-16 10:01:38.530999808   \n",
       "\n",
       "               Last_Transaction  Average_Transaction_Amount  \\\n",
       "0 2018-10-05 05:48:02.608000000                     1467681   \n",
       "1 2018-12-25 11:02:41.269999872                     1269337   \n",
       "2 2019-01-24 09:40:02.000000000                      310915   \n",
       "3 2019-01-16 13:00:03.911000064                      722632   \n",
       "4 2018-11-22 12:53:41.529999872                     1775036   \n",
       "\n",
       "   Count_Transaction  is_churn  \n",
       "0                 22         0  \n",
       "1                 41         0  \n",
       "2                 30         0  \n",
       "3                 27         0  \n",
       "4                 25         0  "
      ]
     },
     "execution_count": 24,
     "metadata": {},
     "output_type": "execute_result"
    }
   ],
   "source": [
    "# Mengubah value kolom is_churn menjadi numerik\n",
    "df['is_churn'] = df['is_churn'].astype('int')\n",
    "df.head()"
   ]
  },
  {
   "cell_type": "markdown",
   "id": "c7febaab",
   "metadata": {},
   "source": [
    "## Data Exploration"
   ]
  },
  {
   "cell_type": "markdown",
   "id": "9ab4ba73",
   "metadata": {},
   "source": [
    "#### Pertanyaan 1: Bagaimana perkembangan customer dari tahun ke tahun?"
   ]
  },
  {
   "cell_type": "code",
   "execution_count": 26,
   "id": "d5a53b7c",
   "metadata": {},
   "outputs": [
    {
     "data": {
      "text/html": [
       "<div>\n",
       "<style scoped>\n",
       "    .dataframe tbody tr th:only-of-type {\n",
       "        vertical-align: middle;\n",
       "    }\n",
       "\n",
       "    .dataframe tbody tr th {\n",
       "        vertical-align: top;\n",
       "    }\n",
       "\n",
       "    .dataframe thead th {\n",
       "        text-align: right;\n",
       "    }\n",
       "</style>\n",
       "<table border=\"1\" class=\"dataframe\">\n",
       "  <thead>\n",
       "    <tr style=\"text-align: right;\">\n",
       "      <th></th>\n",
       "      <th>Customer_ID</th>\n",
       "      <th>Product</th>\n",
       "      <th>First_Transaction</th>\n",
       "      <th>Last_Transaction</th>\n",
       "      <th>Average_Transaction_Amount</th>\n",
       "      <th>Count_Transaction</th>\n",
       "      <th>is_churn</th>\n",
       "      <th>Year_First_Transaction</th>\n",
       "      <th>Year_Last_Transaction</th>\n",
       "    </tr>\n",
       "  </thead>\n",
       "  <tbody>\n",
       "    <tr>\n",
       "      <th>0</th>\n",
       "      <td>29531</td>\n",
       "      <td>Jaket</td>\n",
       "      <td>2016-06-19 02:44:34.396000000</td>\n",
       "      <td>2018-10-05 05:48:02.608000000</td>\n",
       "      <td>1467681</td>\n",
       "      <td>22</td>\n",
       "      <td>0</td>\n",
       "      <td>2016</td>\n",
       "      <td>2018</td>\n",
       "    </tr>\n",
       "    <tr>\n",
       "      <th>1</th>\n",
       "      <td>29531</td>\n",
       "      <td>Sepatu</td>\n",
       "      <td>2014-07-23 01:02:11.493999872</td>\n",
       "      <td>2018-12-25 11:02:41.269999872</td>\n",
       "      <td>1269337</td>\n",
       "      <td>41</td>\n",
       "      <td>0</td>\n",
       "      <td>2014</td>\n",
       "      <td>2018</td>\n",
       "    </tr>\n",
       "    <tr>\n",
       "      <th>2</th>\n",
       "      <td>141526</td>\n",
       "      <td>Tas</td>\n",
       "      <td>2017-04-28 03:12:27.000000000</td>\n",
       "      <td>2019-01-24 09:40:02.000000000</td>\n",
       "      <td>310915</td>\n",
       "      <td>30</td>\n",
       "      <td>0</td>\n",
       "      <td>2017</td>\n",
       "      <td>2019</td>\n",
       "    </tr>\n",
       "    <tr>\n",
       "      <th>3</th>\n",
       "      <td>141526</td>\n",
       "      <td>Jaket</td>\n",
       "      <td>2017-04-28 06:52:52.546999808</td>\n",
       "      <td>2019-01-16 13:00:03.911000064</td>\n",
       "      <td>722632</td>\n",
       "      <td>27</td>\n",
       "      <td>0</td>\n",
       "      <td>2017</td>\n",
       "      <td>2019</td>\n",
       "    </tr>\n",
       "    <tr>\n",
       "      <th>4</th>\n",
       "      <td>37545</td>\n",
       "      <td>Sepatu</td>\n",
       "      <td>2015-04-16 10:01:38.530999808</td>\n",
       "      <td>2018-11-22 12:53:41.529999872</td>\n",
       "      <td>1775036</td>\n",
       "      <td>25</td>\n",
       "      <td>0</td>\n",
       "      <td>2015</td>\n",
       "      <td>2018</td>\n",
       "    </tr>\n",
       "  </tbody>\n",
       "</table>\n",
       "</div>"
      ],
      "text/plain": [
       "   Customer_ID Product             First_Transaction  \\\n",
       "0        29531   Jaket 2016-06-19 02:44:34.396000000   \n",
       "1        29531  Sepatu 2014-07-23 01:02:11.493999872   \n",
       "2       141526     Tas 2017-04-28 03:12:27.000000000   \n",
       "3       141526   Jaket 2017-04-28 06:52:52.546999808   \n",
       "4        37545  Sepatu 2015-04-16 10:01:38.530999808   \n",
       "\n",
       "               Last_Transaction  Average_Transaction_Amount  \\\n",
       "0 2018-10-05 05:48:02.608000000                     1467681   \n",
       "1 2018-12-25 11:02:41.269999872                     1269337   \n",
       "2 2019-01-24 09:40:02.000000000                      310915   \n",
       "3 2019-01-16 13:00:03.911000064                      722632   \n",
       "4 2018-11-22 12:53:41.529999872                     1775036   \n",
       "\n",
       "   Count_Transaction  is_churn  Year_First_Transaction  Year_Last_Transaction  \n",
       "0                 22         0                    2016                   2018  \n",
       "1                 41         0                    2014                   2018  \n",
       "2                 30         0                    2017                   2019  \n",
       "3                 27         0                    2017                   2019  \n",
       "4                 25         0                    2015                   2018  "
      ]
     },
     "execution_count": 26,
     "metadata": {},
     "output_type": "execute_result"
    }
   ],
   "source": [
    "# Membuat kolom tahun transaksi pertama\n",
    "df['Year_First_Transaction'] = df['First_Transaction'].dt.year\n",
    "# Membuat kolom tahun transaksi terakhir\n",
    "df['Year_Last_Transaction'] = df['Last_Transaction'].dt.year\n",
    "df.head()"
   ]
  },
  {
   "cell_type": "code",
   "execution_count": 32,
   "id": "c80cae05",
   "metadata": {},
   "outputs": [
    {
     "data": {
      "image/png": "[encoded data removed]",
      "text/plain": [
       "<Figure size 432x288 with 1 Axes>"
      ]
     },
     "metadata": {
      "needs_background": "light"
     },
     "output_type": "display_data"
    }
   ],
   "source": [
    "#Membuat grafik batang perkembangan customer\n",
    "df_year = df.groupby(['Year_First_Transaction'])['Customer_ID'].count()\n",
    "df_year.plot(x='Year_First_Transaction', y='Customer_ID', kind ='bar',  title='Graph of Customer Acquisition')\n",
    "plt.xlabel('Year_First_Transaction')\n",
    "plt.ylabel('Num_of_Customer')\n",
    "plt.tight_layout()\n",
    "plt.show()"
   ]
  },
  {
   "cell_type": "markdown",
   "id": "cc33a08e",
   "metadata": {},
   "source": [
    "Customer acquisition adalah proses untuk menarik pelanggan agar membeli layanan yang kita tawarkan. Proses penarikan konsumen penting untuk perkembangan bisnis dalam jangka panjang. Berdasarkan grafik bar, terlihat bahwa jumlah penarikan customer yang tertinggi pada tahun 2017, sedangkan jumlah penarikan customer terendah terjadi pada tahun 2013. Kemudian terlihat juga bahwa setelah 2017 penarikan konsumen terus mengalami penurunan drastis dari tahun 2018 ke 2019. Hal ini harus diketahui penyebabnya oleh manajer toko mengapa jumlah penarikan konsumen terus menurun untuk membuat kebijakan agar proses penarikan konsumen meningkat kembali."
   ]
  },
  {
   "cell_type": "markdown",
   "id": "46092e20",
   "metadata": {},
   "source": [
    "#### Pertanyaan 2: Bagaimana jumlah transaksi dari tahun ke tahun?"
   ]
  },
  {
   "cell_type": "code",
   "execution_count": 33,
   "id": "388aec66",
   "metadata": {},
   "outputs": [
    {
     "data": {
      "image/png": "[encoded data removed]",
      "text/plain": [
       "<Figure size 432x288 with 1 Axes>"
      ]
     },
     "metadata": {
      "needs_background": "light"
     },
     "output_type": "display_data"
    }
   ],
   "source": [
    "df_year = df.groupby(['Year_First_Transaction']).sum()['Count_Transaction']\n",
    "df_year.plot(x='Year_First_Transaction', y='Count_Transaction', kind ='bar',  title='Graph of Transaction Customer')\n",
    "plt.xlabel('Year_First_Transaction')\n",
    "plt.ylabel('Num_of_Transaction')\n",
    "plt.tight_layout()\n",
    "plt.show()"
   ]
  },
  {
   "cell_type": "markdown",
   "id": "eccad3dd",
   "metadata": {},
   "source": [
    "Berdasarkan grafik batang, jumlah transaksi dipengaruhi oleh jumlah konsumen dimana semakin besar jumlah konsumen, jumlah transaksi juga semakin besar. Jumlah transaksi terbesar terjadi pada 2015 dan 2017, kemudian menurun ketika tahun 2018 dan 2019."
   ]
  },
  {
   "cell_type": "markdown",
   "id": "aef29472",
   "metadata": {},
   "source": [
    "#### Pertanyaan 3: Bagaimana trend penjualan setiap produk?"
   ]
  },
  {
   "cell_type": "code",
   "execution_count": 35,
   "id": "0a0fa226",
   "metadata": {},
   "outputs": [
    {
     "data": {
      "image/png": "[encoded data removed]",
      "text/plain": [
       "<Figure size 432x288 with 1 Axes>"
      ]
     },
     "metadata": {
      "needs_background": "light"
     },
     "output_type": "display_data"
    }
   ],
   "source": [
    "import seaborn as sns\n",
    "\n",
    "plt.clf()\n",
    "sns.pointplot(data = df.groupby(['Product','Year_First_Transaction']).mean().reset_index(), \n",
    "              x='Year_First_Transaction', y='Average_Transaction_Amount',hue='Product')\n",
    "plt.tight_layout()\n",
    "plt.show()"
   ]
  },
  {
   "cell_type": "markdown",
   "id": "ec3ea527",
   "metadata": {},
   "source": [
    "Berdasarkan trend penjualan produk dlihat dari rata-rara jumlah transaksi, produk jaket mengalami kenaikan jumlah transaksi dari tahun 2015-2019, sedangkan untuk produk baju, tas, dan sepatu cenderung mengalami penurunan"
   ]
  },
  {
   "cell_type": "markdown",
   "id": "605c0db5",
   "metadata": {},
   "source": [
    "#### Pertanyaan 4: Bagaimana proporsi churn customer setiap produk?"
   ]
  },
  {
   "cell_type": "code",
   "execution_count": 48,
   "id": "8bd5c9fb",
   "metadata": {},
   "outputs": [
    {
     "data": {
      "text/plain": [
       "<Figure size 432x288 with 0 Axes>"
      ]
     },
     "metadata": {},
     "output_type": "display_data"
    },
    {
     "data": {
      "image/png": "[encoded data removed]",
      "text/plain": [
       "<Figure size 720x504 with 4 Axes>"
      ]
     },
     "metadata": {},
     "output_type": "display_data"
    }
   ],
   "source": [
    "plt.clf()\n",
    "# Melakukan pivot data\n",
    "df_piv = df.pivot_table(index='is_churn',\n",
    "                        columns='Product',\n",
    "                        values='Customer_ID',\n",
    "                        aggfunc='count',\n",
    "                        fill_value=0)\n",
    "\n",
    "# Mendapatkan Proportion Churn by Product\n",
    "plot_product = df_piv.count().sort_values(ascending=False).head(5).index\n",
    "\n",
    "#Plot pie chart\n",
    "df_piv = df_piv.reindex(columns=plot_product)\n",
    "df_piv.plot.pie(subplots=True, figsize=(10,7), layout=(-1,2), autopct='%1.0f%%',title='Proportion Churn by Product')\n",
    "plt.tight_layout()\n",
    "plt.show()"
   ]
  },
  {
   "cell_type": "markdown",
   "id": "784e005e",
   "metadata": {},
   "source": [
    "Berdasarkan grafik pie, dimana 0 adalah pelanggan tetap dan 1 adalah churn, terlihat bahwa keseluruhan produk memiliki konsumen churn (sudah bukan pelanggan). Hal ini dapat diakibatkan karena ada konsumen yang sudah beralih dengan memberi produk lain atau membeli barang tersebut di toko lain. Proporsi konsumen churn (*churn rate customer*) sangat penting diketahui karena sangat mempengaruhi growth rate perusahaan.\n",
    "\n",
    "Solusi yang bisa ditawarkan adalah dengan mencurahkan segala tenaga, biaya dan waktu untuk mempertahankan 32-40% pelanggan yang masih setia membeli produk di toko, sembari menyusun strategi marketing untuk menggenjot penjualan serta menambah pelanggan. Menurut **CleverTap**, memperoleh pelanggan baru secara umum akan membutuhkan biaya 5-25 kali lipat dibandingkan mempertahankan pelanggan setia. Oleh karena itu, manajer toko dapat membuat kebijakan yang dapat mempertahankan pelanggan tetap dan juga strategi untuk menarik pelanggan baru"
   ]
  }
 ],
 "metadata": {
  "kernelspec": {
   "display_name": "Python 3 (ipykernel)",
   "language": "python",
   "name": "python3"
  },
  "language_info": {
   "codemirror_mode": {
    "name": "ipython",
    "version": 3
   },
   "file_extension": ".py",
   "mimetype": "text/x-python",
   "name": "python",
   "nbconvert_exporter": "python",
   "pygments_lexer": "ipython3",
   "version": "3.9.7"
  }
 },
 "nbformat": 4,
 "nbformat_minor": 5
}
